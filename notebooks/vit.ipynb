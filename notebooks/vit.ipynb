{
 "cells": [
  {
   "cell_type": "code",
   "execution_count": 2,
   "id": "ffd756ee-7d9e-4feb-aa67-0a07e8fcd769",
   "metadata": {},
   "outputs": [
    {
     "data": {
      "application/vnd.jupyter.widget-view+json": {
       "model_id": "9bf0e67a55df490a87d0ca57b9770fad",
       "version_major": 2,
       "version_minor": 0
      },
      "text/plain": [
       "Resolving data files:   0%|          | 0/3541 [00:00<?, ?it/s]"
      ]
     },
     "metadata": {},
     "output_type": "display_data"
    },
    {
     "name": "stdout",
     "output_type": "stream",
     "text": [
      "DatasetDict({\n",
      "    train: Dataset({\n",
      "        features: ['image', 'label'],\n",
      "        num_rows: 3541\n",
      "    })\n",
      "})\n",
      "{'image': <PIL.JpegImagePlugin.JpegImageFile image mode=RGB size=43x57 at 0x2798F73A190>, 'label': 0}\n"
     ]
    }
   ],
   "source": [
    "import os\n",
    "from pathlib import Path\n",
    "from datasets import load_dataset\n",
    "from transformers import ViTForImageClassification, ViTImageProcessor\n",
    "from transformers import TrainingArguments, Trainer\n",
    "import torch\n",
    "from torchvision.transforms import Compose, Resize, CenterCrop, ToTensor, Normalize\n",
    "from datasets import DatasetDict\n",
    "\n",
    "# Загрузка данных\n",
    "dataset = load_dataset('imagefolder', data_dir='Z:\\\\Hakatons\\\\Welding\\\\output')\n",
    "\n",
    "# Вывод структуры датасета\n",
    "print(dataset)\n",
    "\n",
    "# Вывод примера данных\n",
    "print(dataset['train'][0])\n"
   ]
  },
  {
   "cell_type": "code",
   "execution_count": 2,
   "id": "4e3a8c1b-fc1f-419b-9410-745ecea2f9ad",
   "metadata": {},
   "outputs": [
    {
     "data": {
      "application/vnd.jupyter.widget-view+json": {
       "model_id": "9896230f238c4600b02c92235ee15dce",
       "version_major": 2,
       "version_minor": 0
      },
      "text/plain": [
       "Resolving data files:   0%|          | 0/3541 [00:00<?, ?it/s]"
      ]
     },
     "metadata": {},
     "output_type": "display_data"
    },
    {
     "name": "stderr",
     "output_type": "stream",
     "text": [
      "Some weights of ViTForImageClassification were not initialized from the model checkpoint at google/vit-base-patch16-224 and are newly initialized because the shapes did not match:\n",
      "- classifier.bias: found shape torch.Size([1000]) in the checkpoint and torch.Size([5]) in the model instantiated\n",
      "- classifier.weight: found shape torch.Size([1000, 768]) in the checkpoint and torch.Size([5, 768]) in the model instantiated\n",
      "You should probably TRAIN this model on a down-stream task to be able to use it for predictions and inference.\n"
     ]
    },
    {
     "data": {
      "application/vnd.jupyter.widget-view+json": {
       "model_id": "9e76268a89134e4c9db547b7384a1ab7",
       "version_major": 2,
       "version_minor": 0
      },
      "text/plain": [
       "Map:   0%|          | 0/2832 [00:00<?, ? examples/s]"
      ]
     },
     "metadata": {},
     "output_type": "display_data"
    },
    {
     "data": {
      "application/vnd.jupyter.widget-view+json": {
       "model_id": "2151cba2ebda41dfa0ef8a9c7f65409d",
       "version_major": 2,
       "version_minor": 0
      },
      "text/plain": [
       "Map:   0%|          | 0/709 [00:00<?, ? examples/s]"
      ]
     },
     "metadata": {},
     "output_type": "display_data"
    },
    {
     "name": "stderr",
     "output_type": "stream",
     "text": [
      "C:\\Users\\aleks\\anaconda3\\envs\\tf\\lib\\site-packages\\transformers\\models\\vit\\modeling_vit.py:253: UserWarning: 1Torch was not compiled with flash attention. (Triggered internally at C:\\actions-runner\\_work\\pytorch\\pytorch\\builder\\windows\\pytorch\\aten\\src\\ATen\\native\\transformers\\cuda\\sdp_utils.cpp:455.)\n",
      "  context_layer = torch.nn.functional.scaled_dot_product_attention(\n"
     ]
    },
    {
     "data": {
      "text/html": [
       "\n",
       "    <div>\n",
       "      \n",
       "      <progress value='531' max='531' style='width:300px; height:20px; vertical-align: middle;'></progress>\n",
       "      [531/531 20:57, Epoch 3/3]\n",
       "    </div>\n",
       "    <table border=\"1\" class=\"dataframe\">\n",
       "  <thead>\n",
       " <tr style=\"text-align: left;\">\n",
       "      <th>Epoch</th>\n",
       "      <th>Training Loss</th>\n",
       "      <th>Validation Loss</th>\n",
       "    </tr>\n",
       "  </thead>\n",
       "  <tbody>\n",
       "    <tr>\n",
       "      <td>1</td>\n",
       "      <td>No log</td>\n",
       "      <td>0.084113</td>\n",
       "    </tr>\n",
       "    <tr>\n",
       "      <td>2</td>\n",
       "      <td>No log</td>\n",
       "      <td>0.053414</td>\n",
       "    </tr>\n",
       "    <tr>\n",
       "      <td>3</td>\n",
       "      <td>0.134000</td>\n",
       "      <td>0.046147</td>\n",
       "    </tr>\n",
       "  </tbody>\n",
       "</table><p>"
      ],
      "text/plain": [
       "<IPython.core.display.HTML object>"
      ]
     },
     "metadata": {},
     "output_type": "display_data"
    },
    {
     "data": {
      "text/plain": [
       "TrainOutput(global_step=531, training_loss=0.12629318748041285, metrics={'train_runtime': 1262.5697, 'train_samples_per_second': 6.729, 'train_steps_per_second': 0.421, 'total_flos': 6.583896461040353e+17, 'train_loss': 0.12629318748041285, 'epoch': 3.0})"
      ]
     },
     "execution_count": 2,
     "metadata": {},
     "output_type": "execute_result"
    }
   ],
   "source": [
    "import os\n",
    "from pathlib import Path\n",
    "from datasets import load_dataset\n",
    "from transformers import ViTForImageClassification, ViTImageProcessor\n",
    "from transformers import TrainingArguments, Trainer\n",
    "import torch\n",
    "from torchvision.transforms import Compose, Resize, CenterCrop, ToTensor, Normalize\n",
    "from datasets import DatasetDict\n",
    "\n",
    "\n",
    "# Загрузка данных\n",
    "dataset = load_dataset('imagefolder', data_dir='Z:\\\\Hakatons\\\\Welding\\\\output')\n",
    "\n",
    "# Разделение датасета на обучающую и тестовую выборки\n",
    "dataset = dataset['train'].train_test_split(test_size=0.2)  # 20% для тестирования\n",
    "\n",
    "# Определение модели и токенизатора (image processor)\n",
    "model_name = 'google/vit-base-patch16-224'\n",
    "image_processor = ViTImageProcessor.from_pretrained(model_name)\n",
    "model = ViTForImageClassification.from_pretrained(model_name, num_labels=len(dataset['train'].features['label'].names), ignore_mismatched_sizes=True)\n",
    "\n",
    "# Определение трансформаций для изображений\n",
    "normalize = Normalize(mean=image_processor.image_mean, std=image_processor.image_std)\n",
    "size = image_processor.size['height']  # Используем конкретное значение размера\n",
    "_transforms = Compose([\n",
    "    Resize((size, size)),  # Применяем Resize с корректными значениями\n",
    "    CenterCrop(size),\n",
    "    ToTensor(),  # Преобразуем изображение в тензор\n",
    "    normalize,\n",
    "])\n",
    "\n",
    "def transform(example):\n",
    "    \"\"\"Функция для применения трансформаций к изображению\"\"\"\n",
    "    if 'image' in example:\n",
    "        example['pixel_values'] = _transforms(example['image'])\n",
    "    return example\n",
    "\n",
    "# Применяем трансформации к датасету\n",
    "dataset = dataset.map(transform, batched=False)\n",
    "\n",
    "# Создаем абсолютный путь для результатов\n",
    "output_dir = Path('./results')\n",
    "os.makedirs(output_dir, exist_ok=True)\n",
    "\n",
    "# Определение параметров обучения\n",
    "training_args = TrainingArguments(\n",
    "    output_dir=str(output_dir),  # Директория для сохранения модели и других результатов\n",
    "    evaluation_strategy=\"epoch\",  # Изменено на eval_strategy\n",
    "    learning_rate=5e-5,\n",
    "    per_device_train_batch_size=16,\n",
    "    per_device_eval_batch_size=16,\n",
    "    num_train_epochs=3,\n",
    "    weight_decay=0.01,\n",
    "    logging_dir=str(output_dir / 'logs'),  # Директория для логов\n",
    "    report_to=\"none\",  # Отключаем TensorBoard\n",
    ")\n",
    "\n",
    "# Определение Trainer\n",
    "trainer = Trainer(\n",
    "    model=model,\n",
    "    args=training_args,\n",
    "    train_dataset=dataset['train'],\n",
    "    eval_dataset=dataset['test'],  # Используем тестовую часть после разделения\n",
    "    tokenizer=image_processor,\n",
    "    data_collator=lambda data: {\n",
    "        'pixel_values': torch.stack([torch.tensor(f['pixel_values']) for f in data]),  # Преобразуем элементы в тензоры\n",
    "        'labels': torch.tensor([f['label'] for f in data])\n",
    "    }\n",
    ")\n",
    "\n",
    "# Обучение модели\n",
    "trainer.train()\n"
   ]
  },
  {
   "cell_type": "code",
   "execution_count": 3,
   "id": "eda823d5-195c-4e8f-9839-d5fa1c223e1b",
   "metadata": {},
   "outputs": [
    {
     "data": {
      "text/html": [],
      "text/plain": [
       "<IPython.core.display.HTML object>"
      ]
     },
     "metadata": {},
     "output_type": "display_data"
    },
    {
     "name": "stdout",
     "output_type": "stream",
     "text": [
      "Evaluation results: {'eval_loss': 0.046146973967552185, 'eval_runtime': 80.207, 'eval_samples_per_second': 8.84, 'eval_steps_per_second': 0.561, 'epoch': 3.0}\n",
      "Accuracy: 0.9901269393511989\n",
      "Precision: 0.9902704221319298\n",
      "Recall: 0.9901269393511989\n",
      "F1-Score: 0.9901075415593387\n"
     ]
    },
    {
     "data": {
      "image/png": "[encoded data removed]",
      "text/plain": [
       "<Figure size 640x480 with 2 Axes>"
      ]
     },
     "metadata": {},
     "output_type": "display_data"
    }
   ],
   "source": [
    "from sklearn.metrics import accuracy_score, precision_recall_fscore_support\n",
    "\n",
    "# Оценка модели\n",
    "eval_results = trainer.evaluate()\n",
    "print(f\"Evaluation results: {eval_results}\")\n",
    "\n",
    "# Выполнение предсказаний\n",
    "predictions, labels, _ = trainer.predict(dataset['test'])\n",
    "predicted_labels = predictions.argmax(axis=1)\n",
    "\n",
    "# Вычисление метрик\n",
    "accuracy = accuracy_score(labels, predicted_labels)\n",
    "precision, recall, f1, _ = precision_recall_fscore_support(labels, predicted_labels, average='weighted')\n",
    "\n",
    "print(f\"Accuracy: {accuracy}\")\n",
    "print(f\"Precision: {precision}\")\n",
    "print(f\"Recall: {recall}\")\n",
    "print(f\"F1-Score: {f1}\")\n",
    "\n",
    "# Для анализа предсказаний можно использовать confusion matrix\n",
    "from sklearn.metrics import confusion_matrix\n",
    "import seaborn as sns\n",
    "import matplotlib.pyplot as plt\n",
    "\n",
    "cm = confusion_matrix(labels, predicted_labels)\n",
    "sns.heatmap(cm, annot=True, fmt='d', cmap='Blues', xticklabels=dataset['test'].features['label'].names, yticklabels=dataset['test'].features['label'].names)\n",
    "plt.xlabel('Predicted')\n",
    "plt.ylabel('True')\n",
    "plt.show()\n"
   ]
  },
  {
   "cell_type": "code",
   "execution_count": 16,
   "id": "1402e5e3-0fcb-4da8-9f84-e8ee9ba795af",
   "metadata": {},
   "outputs": [
    {
     "name": "stdout",
     "output_type": "stream",
     "text": [
      "Predicted class: non\n"
     ]
    }
   ],
   "source": [
    "from PIL import Image\n",
    "import torch\n",
    "from torchvision.transforms import Compose, Resize, CenterCrop, ToTensor, Normalize\n",
    "from transformers import ViTForImageClassification, ViTImageProcessor\n",
    "\n",
    "# Функция загрузки изображения\n",
    "def load_image(image_path):\n",
    "    return Image.open(image_path)\n",
    "\n",
    "# Функция предобработки изображения\n",
    "def preprocess_image(image, image_processor):\n",
    "    transforms = Compose([\n",
    "        Resize((image_processor.size['height'], image_processor.size['width'])),\n",
    "        CenterCrop(image_processor.size['height']),\n",
    "        ToTensor(),\n",
    "        Normalize(mean=image_processor.image_mean, std=image_processor.image_std)\n",
    "    ])\n",
    "    return transforms(image)\n",
    "\n",
    "# Загрузка модели и процессора изображений из локальной директории\n",
    "output_dir = Path('./results/checkpoint-500')\n",
    "model = ViTForImageClassification.from_pretrained(output_dir)\n",
    "image_processor = ViTImageProcessor.from_pretrained(output_dir)\n",
    "\n",
    "# Классификация изображения\n",
    "def classify_image(image_path):\n",
    "    image = load_image(image_path)\n",
    "    image = preprocess_image(image, image_processor)\n",
    "    image = image.unsqueeze(0)  # Добавляем batch dimension\n",
    "\n",
    "    model.eval()\n",
    "    with torch.no_grad():\n",
    "        outputs = model(image)\n",
    "        logits = outputs.logits\n",
    "        predicted_class_idx = logits.argmax(-1).item()\n",
    "\n",
    "    return dataset['train'].features['label'].names[predicted_class_idx]\n",
    "\n",
    "\n",
    "\n",
    "# Пример использования\n",
    "image_path = 'Z:\\\\Hakatons\\\\Welding\\\\test\\\\12.jpg'\n",
    "predicted_class = classify_image(image_path)\n",
    "print(f\"Predicted class: {predicted_class}\")\n"
   ]
  },
  {
   "cell_type": "code",
   "execution_count": null,
   "id": "bc4072f2-b3d2-40b6-aa2c-4e348587c7fc",
   "metadata": {},
   "outputs": [],
   "source": []
  }
 ],
 "metadata": {
  "kernelspec": {
   "display_name": "Python 3 (ipykernel)",
   "language": "python",
   "name": "python3"
  },
  "language_info": {
   "codemirror_mode": {
    "name": "ipython",
    "version": 3
   },
   "file_extension": ".py",
   "mimetype": "text/x-python",
   "name": "python",
   "nbconvert_exporter": "python",
   "pygments_lexer": "ipython3",
   "version": "3.9.19"
  }
 },
 "nbformat": 4,
 "nbformat_minor": 5
}
